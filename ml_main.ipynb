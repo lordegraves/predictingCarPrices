{
 "cells": [
  {
   "cell_type": "code",
   "execution_count": 1,
   "metadata": {},
   "outputs": [],
   "source": [
    "import pandas as pd\n",
    "from sklearn.linear_model import LinearRegression, LogisticRegression\n",
    "from sklearn.svm import SVC\n",
    "from sklearn.tree import DecisionTreeRegressor\n",
    "from sklearn.ensemble import RandomForestRegressor, GradientBoostingRegressor, ExtraTreesRegressor\n",
    "\n",
    "import ml_util as m_util"
   ]
  },
  {
   "cell_type": "code",
   "execution_count": 2,
   "metadata": {},
   "outputs": [],
   "source": [
    "# Read in CSV file\n",
    "car_df = pd.read_csv('car_price_prediction_data.csv')"
   ]
  },
  {
   "cell_type": "code",
   "execution_count": 3,
   "metadata": {},
   "outputs": [],
   "source": [
    "# LogisticRegression(), SVC(),\n",
    "models_to_test = [LinearRegression(),  DecisionTreeRegressor(), RandomForestRegressor(), GradientBoostingRegressor(), ExtraTreesRegressor()]"
   ]
  },
  {
   "cell_type": "code",
   "execution_count": 4,
   "metadata": {},
   "outputs": [],
   "source": [
    "car_df = car_df[(car_df['Price'] >= 1000) & (car_df['Price'] <= 100000)]"
   ]
  },
  {
   "cell_type": "code",
   "execution_count": 5,
   "metadata": {},
   "outputs": [
    {
     "name": "stdout",
     "output_type": "stream",
     "text": [
      "LinearRegression Train Score: 0.622065108044872\n",
      "LinearRegression Test Score: 0.4962831792392739\n",
      "--------------------------------------------------\n",
      "DecisionTreeRegressor Train Score: 1.0\n",
      "DecisionTreeRegressor Test Score: 0.6337896804132097\n",
      "--------------------------------------------------\n",
      "RandomForestRegressor Train Score: 0.9694321015896245\n",
      "RandomForestRegressor Test Score: 0.7876570200831772\n",
      "--------------------------------------------------\n",
      "GradientBoostingRegressor Train Score: 0.6603052944621047\n",
      "GradientBoostingRegressor Test Score: 0.6244256368142653\n",
      "--------------------------------------------------\n",
      "ExtraTreesRegressor Train Score: 0.9999997763414357\n",
      "ExtraTreesRegressor Test Score: 0.7801663888349344\n",
      "--------------------------------------------------\n"
     ]
    }
   ],
   "source": [
    "m_util.check_model_accuracy(car_df, models_to_test)"
   ]
  }
 ],
 "metadata": {
  "kernelspec": {
   "display_name": "base",
   "language": "python",
   "name": "python3"
  },
  "language_info": {
   "codemirror_mode": {
    "name": "ipython",
    "version": 3
   },
   "file_extension": ".py",
   "mimetype": "text/x-python",
   "name": "python",
   "nbconvert_exporter": "python",
   "pygments_lexer": "ipython3",
   "version": "3.11.4"
  }
 },
 "nbformat": 4,
 "nbformat_minor": 2
}
